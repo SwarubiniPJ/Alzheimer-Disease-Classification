{
 "cells": [
  {
   "cell_type": "code",
   "execution_count": 3,
   "id": "5c9bb601",
   "metadata": {
    "_cell_guid": "b1076dfc-b9ad-4769-8c92-a6c4dae69d19",
    "_uuid": "8f2839f25d086af736a60e9eeb907d3b93b6e0e5",
    "execution": {
     "iopub.execute_input": "2023-02-11T18:50:47.925759Z",
     "iopub.status.busy": "2023-02-11T18:50:47.924961Z",
     "iopub.status.idle": "2023-02-11T18:50:55.404881Z",
     "shell.execute_reply": "2023-02-11T18:50:55.403539Z"
    },
    "papermill": {
     "duration": 7.490519,
     "end_time": "2023-02-11T18:50:55.408168",
     "exception": false,
     "start_time": "2023-02-11T18:50:47.917649",
     "status": "completed"
    },
    "tags": []
   },
   "outputs": [],
   "source": [
    "#libraries\n",
    "import numpy as np\n",
    "import tensorflow as tf\n",
    "from tensorflow import keras\n",
    "from tensorflow.keras.models import Sequential\n",
    "from tensorflow.keras.layers import Activation, Dense, Flatten, BatchNormalization, Conv2D, MaxPool2D\n",
    "from tensorflow.keras.optimizers import Adam\n",
    "from tensorflow.keras.metrics import categorical_crossentropy\n",
    "from tensorflow.keras.preprocessing.image import ImageDataGenerator\n",
    "from sklearn.metrics import confusion_matrix\n",
    "import itertools\n",
    "import os\n",
    "import shutil\n",
    "import random\n",
    "import glob\n",
    "import matplotlib.pyplot as plt\n",
    "%matplotlib inline\n",
    "import warnings\n",
    "warnings.simplefilter(action='ignore',category=FutureWarning)"
   ]
  },
  {
   "cell_type": "code",
   "execution_count": null,
   "id": "006df691",
   "metadata": {},
   "outputs": [],
   "source": []
  },
  {
   "cell_type": "code",
   "execution_count": 4,
   "id": "af0cf1bd",
   "metadata": {
    "execution": {
     "iopub.execute_input": "2023-02-11T18:50:55.419327Z",
     "iopub.status.busy": "2023-02-11T18:50:55.417671Z",
     "iopub.status.idle": "2023-02-11T18:51:31.433320Z",
     "shell.execute_reply": "2023-02-11T18:51:31.431340Z"
    },
    "papermill": {
     "duration": 36.023759,
     "end_time": "2023-02-11T18:51:31.436213",
     "exception": false,
     "start_time": "2023-02-11T18:50:55.412454",
     "status": "completed"
    },
    "tags": []
   },
   "outputs": [
    {
     "name": "stdout",
     "output_type": "stream",
     "text": [
      "Found 33984 files belonging to 4 classes.\n",
      "Using 27188 files for training.\n",
      "Found 33984 files belonging to 4 classes.\n",
      "Using 6796 files for validation.\n"
     ]
    }
   ],
   "source": [
    "train_ds = tf.keras.preprocessing.image_dataset_from_directory(\n",
    "    \"C:/Users/swaru/Desktop/EMG My work/AugmentedAlzheimerDataset\",\n",
    "    validation_split=0.2,\n",
    "    subset=\"training\",\n",
    "    seed=1337,\n",
    "    image_size=[176, 208],\n",
    "    batch_size=16,\n",
    ")\n",
    "\n",
    "val_ds = tf.keras.preprocessing.image_dataset_from_directory(\n",
    "    \"C:/Users/swaru/Desktop/EMG My work/AugmentedAlzheimerDataset\",\n",
    "    validation_split=0.2,\n",
    "    subset=\"validation\",\n",
    "    seed=1337,\n",
    "    image_size=[176, 208],\n",
    "    batch_size=16 ,\n",
    ")"
   ]
  },
  {
   "cell_type": "code",
   "execution_count": 5,
   "id": "376b336d",
   "metadata": {
    "execution": {
     "iopub.execute_input": "2023-02-11T18:51:31.446091Z",
     "iopub.status.busy": "2023-02-11T18:51:31.445646Z",
     "iopub.status.idle": "2023-02-11T18:51:31.456845Z",
     "shell.execute_reply": "2023-02-11T18:51:31.455332Z"
    },
    "papermill": {
     "duration": 0.019399,
     "end_time": "2023-02-11T18:51:31.459568",
     "exception": false,
     "start_time": "2023-02-11T18:51:31.440169",
     "status": "completed"
    },
    "tags": []
   },
   "outputs": [
    {
     "data": {
      "text/plain": [
       "4"
      ]
     },
     "execution_count": 5,
     "metadata": {},
     "output_type": "execute_result"
    }
   ],
   "source": [
    "class_names = ['MildDementia', 'ModerateDementia', 'NonDementia', 'VeryMildDementia']\n",
    "train_ds.class_names = class_names\n",
    "val_ds.class_names = class_names\n",
    "\n",
    "NUM_CLASSES = len(class_names)\n",
    "NUM_CLASSES"
   ]
  },
  {
   "cell_type": "code",
   "execution_count": 6,
   "id": "a9ff6d5f",
   "metadata": {
    "execution": {
     "iopub.execute_input": "2023-02-11T18:51:31.471177Z",
     "iopub.status.busy": "2023-02-11T18:51:31.469619Z",
     "iopub.status.idle": "2023-02-11T18:51:31.529937Z",
     "shell.execute_reply": "2023-02-11T18:51:31.528517Z"
    },
    "papermill": {
     "duration": 0.069043,
     "end_time": "2023-02-11T18:51:31.533038",
     "exception": false,
     "start_time": "2023-02-11T18:51:31.463995",
     "status": "completed"
    },
    "tags": []
   },
   "outputs": [],
   "source": [
    "def one_hot_label(image, label):\n",
    "    label = tf.one_hot(label, NUM_CLASSES)\n",
    "    return image, label\n",
    "\n",
    "AUTOTUNE = tf.data.experimental.AUTOTUNE\n",
    "train_ds = train_ds.map(one_hot_label, num_parallel_calls=AUTOTUNE)\n",
    "val_ds = val_ds.map(one_hot_label, num_parallel_calls=AUTOTUNE)"
   ]
  },
  {
   "cell_type": "code",
   "execution_count": 7,
   "id": "6bb6f8ba",
   "metadata": {
    "execution": {
     "iopub.execute_input": "2023-02-11T18:51:31.543641Z",
     "iopub.status.busy": "2023-02-11T18:51:31.543236Z",
     "iopub.status.idle": "2023-02-11T18:51:31.551076Z",
     "shell.execute_reply": "2023-02-11T18:51:31.549871Z"
    },
    "papermill": {
     "duration": 0.015914,
     "end_time": "2023-02-11T18:51:31.553609",
     "exception": false,
     "start_time": "2023-02-11T18:51:31.537695",
     "status": "completed"
    },
    "tags": []
   },
   "outputs": [],
   "source": [
    "train_ds = train_ds.cache().prefetch(buffer_size=AUTOTUNE)\n",
    "val_ds = val_ds.cache().prefetch(buffer_size=AUTOTUNE)"
   ]
  },
  {
   "cell_type": "code",
   "execution_count": 8,
   "id": "cd6258d1",
   "metadata": {
    "execution": {
     "iopub.execute_input": "2023-02-11T18:51:31.564172Z",
     "iopub.status.busy": "2023-02-11T18:51:31.563786Z",
     "iopub.status.idle": "2023-02-11T18:51:31.570157Z",
     "shell.execute_reply": "2023-02-11T18:51:31.568796Z"
    },
    "papermill": {
     "duration": 0.014641,
     "end_time": "2023-02-11T18:51:31.572900",
     "exception": false,
     "start_time": "2023-02-11T18:51:31.558259",
     "status": "completed"
    },
    "tags": []
   },
   "outputs": [],
   "source": [
    "train_ds = train_ds.take(5000)\n",
    "val_ds = val_ds.take(1000)"
   ]
  },
  {
   "cell_type": "code",
   "execution_count": 9,
   "id": "36d1f676",
   "metadata": {
    "execution": {
     "iopub.execute_input": "2023-02-11T18:51:31.583973Z",
     "iopub.status.busy": "2023-02-11T18:51:31.583457Z",
     "iopub.status.idle": "2023-02-11T18:51:31.594176Z",
     "shell.execute_reply": "2023-02-11T18:51:31.593168Z"
    },
    "papermill": {
     "duration": 0.018937,
     "end_time": "2023-02-11T18:51:31.596526",
     "exception": false,
     "start_time": "2023-02-11T18:51:31.577589",
     "status": "completed"
    },
    "tags": []
   },
   "outputs": [],
   "source": [
    "def conv_block(filters):\n",
    "    block = tf.keras.Sequential([\n",
    "        tf.keras.layers.SeparableConv2D(filters, 3, activation='relu', padding='same'),\n",
    "        tf.keras.layers.SeparableConv2D(filters, 3, activation='relu', padding='same'),\n",
    "        tf.keras.layers.BatchNormalization(),\n",
    "        tf.keras.layers.MaxPool2D()\n",
    "    ]\n",
    "    )\n",
    "    \n",
    "    return block"
   ]
  },
  {
   "cell_type": "code",
   "execution_count": 10,
   "id": "ea0389e0",
   "metadata": {
    "execution": {
     "iopub.execute_input": "2023-02-11T18:51:31.607048Z",
     "iopub.status.busy": "2023-02-11T18:51:31.606622Z",
     "iopub.status.idle": "2023-02-11T18:51:31.612861Z",
     "shell.execute_reply": "2023-02-11T18:51:31.611558Z"
    },
    "papermill": {
     "duration": 0.014389,
     "end_time": "2023-02-11T18:51:31.615253",
     "exception": false,
     "start_time": "2023-02-11T18:51:31.600864",
     "status": "completed"
    },
    "tags": []
   },
   "outputs": [],
   "source": [
    "def dense_block(units, dropout_rate):\n",
    "    block = tf.keras.Sequential([\n",
    "        tf.keras.layers.Dense(units, activation='relu'),\n",
    "        tf.keras.layers.BatchNormalization(),\n",
    "        tf.keras.layers.Dropout(dropout_rate)\n",
    "    ])\n",
    "    \n",
    "    return block"
   ]
  },
  {
   "cell_type": "code",
   "execution_count": 11,
   "id": "bd858c50",
   "metadata": {
    "execution": {
     "iopub.execute_input": "2023-02-11T18:51:31.625778Z",
     "iopub.status.busy": "2023-02-11T18:51:31.625302Z",
     "iopub.status.idle": "2023-02-11T18:51:31.634632Z",
     "shell.execute_reply": "2023-02-11T18:51:31.633133Z"
    },
    "papermill": {
     "duration": 0.017761,
     "end_time": "2023-02-11T18:51:31.637227",
     "exception": false,
     "start_time": "2023-02-11T18:51:31.619466",
     "status": "completed"
    },
    "tags": []
   },
   "outputs": [],
   "source": [
    "IMAGE_SIZE = [176, 208]\n",
    "def build_model():\n",
    "    model = tf.keras.Sequential([\n",
    "        tf.keras.Input(shape=(*IMAGE_SIZE, 3)),\n",
    "        \n",
    "        tf.keras.layers.Conv2D(16, 3, activation='relu', padding='same'),\n",
    "        tf.keras.layers.Conv2D(16, 3, activation='relu', padding='same'),\n",
    "        tf.keras.layers.MaxPool2D(),\n",
    "        \n",
    "        conv_block(32),\n",
    "        conv_block(64),\n",
    "        \n",
    "        conv_block(128),\n",
    "        tf.keras.layers.Dropout(0.2),\n",
    "        conv_block(256),\n",
    "        tf.keras.layers.Dropout(0.2),\n",
    "        \n",
    "        tf.keras.layers.Flatten(),\n",
    "        dense_block(512, 0.7),\n",
    "        dense_block(128, 0.5),\n",
    "        dense_block(64, 0.3),\n",
    "        \n",
    "        tf.keras.layers.Dense(NUM_CLASSES, activation='softmax')\n",
    "    ])\n",
    "    \n",
    "    return model"
   ]
  },
  {
   "cell_type": "code",
   "execution_count": 12,
   "id": "46fc16c6",
   "metadata": {
    "execution": {
     "iopub.execute_input": "2023-02-11T18:51:31.647540Z",
     "iopub.status.busy": "2023-02-11T18:51:31.647104Z",
     "iopub.status.idle": "2023-02-11T18:51:32.178476Z",
     "shell.execute_reply": "2023-02-11T18:51:32.176957Z"
    },
    "papermill": {
     "duration": 0.539789,
     "end_time": "2023-02-11T18:51:32.181415",
     "exception": false,
     "start_time": "2023-02-11T18:51:31.641626",
     "status": "completed"
    },
    "tags": []
   },
   "outputs": [],
   "source": [
    "model = build_model()\n",
    "METRICS = [tf.keras.metrics.AUC(name='auc'),tf.keras.metrics.CategoricalAccuracy(name='acc')]\n",
    "model.compile(optimizer='adam',loss = tf.losses.CategoricalCrossentropy(),metrics=METRICS)"
   ]
  },
  {
   "cell_type": "code",
   "execution_count": null,
   "id": "c11cecd9",
   "metadata": {
    "execution": {
     "iopub.execute_input": "2023-02-11T18:51:32.192532Z",
     "iopub.status.busy": "2023-02-11T18:51:32.191343Z",
     "iopub.status.idle": "2023-02-11T21:11:05.004754Z",
     "shell.execute_reply": "2023-02-11T21:11:05.002570Z"
    },
    "papermill": {
     "duration": 8374.620179,
     "end_time": "2023-02-11T21:11:06.805930",
     "exception": false,
     "start_time": "2023-02-11T18:51:32.185751",
     "status": "completed"
    },
    "tags": []
   },
   "outputs": [
    {
     "name": "stdout",
     "output_type": "stream",
     "text": [
      "Epoch 1/6\n",
      "1700/1700 [==============================] - 9560s 6s/step - loss: 1.1684 - auc: 0.7539 - acc: 0.4764 - val_loss: 1.0996 - val_auc: 0.8239 - val_acc: 0.5218\n",
      "Epoch 2/6\n",
      "1700/1700 [==============================] - 1356s 797ms/step - loss: 0.8409 - auc: 0.8698 - acc: 0.6170 - val_loss: 0.7900 - val_auc: 0.8786 - val_acc: 0.6059\n",
      "Epoch 3/6\n",
      "1700/1700 [==============================] - 1374s 808ms/step - loss: 0.7469 - auc: 0.8979 - acc: 0.6688 - val_loss: 0.6378 - val_auc: 0.9255 - val_acc: 0.7087\n",
      "Epoch 4/6\n",
      " 170/1700 [==>...........................] - ETA: 16:25 - loss: 0.6819 - auc: 0.9160 - acc: 0.6985"
     ]
    }
   ],
   "source": [
    "fitmodel = model.fit(train_ds, validation_data=val_ds,epochs=6)"
   ]
  },
  {
   "cell_type": "code",
   "execution_count": null,
   "id": "434f7443",
   "metadata": {
    "papermill": {
     "duration": 1.769102,
     "end_time": "2023-02-11T21:11:10.197463",
     "exception": false,
     "start_time": "2023-02-11T21:11:08.428361",
     "status": "completed"
    },
    "tags": []
   },
   "outputs": [],
   "source": []
  }
 ],
 "metadata": {
  "kernelspec": {
   "display_name": "Python 3 (ipykernel)",
   "language": "python",
   "name": "python3"
  },
  "language_info": {
   "codemirror_mode": {
    "name": "ipython",
    "version": 3
   },
   "file_extension": ".py",
   "mimetype": "text/x-python",
   "name": "python",
   "nbconvert_exporter": "python",
   "pygments_lexer": "ipython3",
   "version": "3.9.12"
  },
  "papermill": {
   "default_parameters": {},
   "duration": 8437.855584,
   "end_time": "2023-02-11T21:11:16.838471",
   "environment_variables": {},
   "exception": null,
   "input_path": "__notebook__.ipynb",
   "output_path": "__notebook__.ipynb",
   "parameters": {},
   "start_time": "2023-02-11T18:50:38.982887",
   "version": "2.3.4"
  }
 },
 "nbformat": 4,
 "nbformat_minor": 5
}
